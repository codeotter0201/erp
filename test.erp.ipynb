{
 "cells": [
  {
   "cell_type": "code",
   "execution_count": 188,
   "metadata": {},
   "outputs": [],
   "source": [
    "from sqlalchemy import create_engine, Column, Integer, String, DateTime, ForeignKey, Enum, Float\n",
    "from sqlalchemy.orm import sessionmaker, declarative_base, validates\n",
    "import pandas as pd\n",
    "\n",
    "# 创建数据库连接引擎和会话工厂\n",
    "engine = create_engine('sqlite:///products.db')\n",
    "Session = sessionmaker(bind=engine)\n",
    "\n",
    "# 创建模型基类\n",
    "Base = declarative_base()\n",
    "\n",
    "# 定义商品模型类\n",
    "class Product(Base):\n",
    "    __tablename__ = 'products'\n",
    "\n",
    "    id = Column(String, primary_key=True)\n",
    "    product_ts = Column(DateTime, nullable=False)\n",
    "    name = Column(String(256), nullable=False)\n",
    "    color = Column(String(64), nullable=False)\n",
    "    size = Column(String(64), nullable=False)\n",
    "    photo_path = Column(String(256), nullable=True)\n",
    "\n",
    "    @validates('color')\n",
    "    def validate_color(self, key, color):\n",
    "        allowed_colors = [\"紅\", \"綠\", \"藍\", \"黃\", \"黑\", \"灰\"]\n",
    "        if color not in allowed_colors:\n",
    "            raise ValueError(f\"invalid color, allowed values are {allowed_colors}\")\n",
    "        return color\n",
    "\n",
    "    @validates('size')\n",
    "    def validate_size(self, key, size):\n",
    "        allowed_sizes = [\"S\", \"M\", \"L\", \"2L\", \"XL\", \"XXL\"]\n",
    "        if size not in allowed_sizes:\n",
    "            raise ValueError(f\"invalid size, allowed values are {allowed_sizes}\")\n",
    "        return size\n",
    "\n",
    "class Detail(Base):\n",
    "    __tablename__ = 'detail'\n",
    "\n",
    "    id = Column(String, ForeignKey('products.id'), primary_key=True)\n",
    "    detail_ts = Column(DateTime, default=DateTime, primary_key=True)\n",
    "    quantity = Column(Float, nullable=False)\n",
    "    price = Column(Float, nullable=False)\n",
    "    type = Column(Enum('IN', 'OUT', name='type'), nullable=False)\n",
    "    supplier = Column(String(256), nullable=True)\n",
    "    note = Column(String(256), nullable=True)\n",
    "\n",
    "\n",
    "# 创建数据表\n",
    "Base.metadata.create_all(engine)\n",
    "\n",
    "# 创建商品记录的函数\n",
    "def create_product(name, color, size, photo_path=None):\n",
    "    id = f'{name}_{color}_{size}'\n",
    "    session = Session()\n",
    "    product = Product(id=id, product_ts=pd.Timestamp.now(), name=name, color=color, size=size, photo_path=photo_path)\n",
    "    session.add(product)\n",
    "    session.commit()\n",
    "    return product\n",
    "\n",
    "# 根据商品 ID 查找商品记录的函数\n",
    "def read_product(id):\n",
    "    session = Session()\n",
    "    product = session.query(Product).filter_by(id=id).first()\n",
    "    session.commit()\n",
    "    return product\n",
    "\n",
    "# 更新商品记录的函数\n",
    "def update_product(id, name=None, color=None, size=None, photo_path=None):\n",
    "    session = Session()\n",
    "    product = session.query(Product).filter_by(id=id).first()\n",
    "    if name:\n",
    "        product.name = name\n",
    "    if color:\n",
    "        product.color = color\n",
    "    if size:\n",
    "        product.size = size\n",
    "    if photo_path:\n",
    "        product.photo_path = photo_path\n",
    "    session.commit()\n",
    "    return product\n",
    "\n",
    "# 删除商品记录的函数\n",
    "def delete_product(id):\n",
    "    session = Session()\n",
    "    product = session.query(Product).filter_by(id=id).first()\n",
    "    session.delete(product)\n",
    "    session.commit()\n",
    "    return product\n",
    "\n",
    "def get_product_data():\n",
    "    with Session() as s:\n",
    "        results = s.query(Product).all()\n",
    "    df = pd.DataFrame([(p.id, p.name, p.color, p.size, p.photo_path, p.product_ts) for p in results],\n",
    "                      columns=['id', 'name', 'color', 'size', 'photo_path', 'product_ts'])\n",
    "    return df\n",
    "\n",
    "# 创建商品记录的函数\n",
    "def create_product＿detail(id, quantity, price, type, supplier, note=None):\n",
    "    session = Session()\n",
    "    detail = Detail(detail_ts=pd.Timestamp.now() - pd.Timedelta(pd.Series(range(3000)).sample(1).values[0], 'day'), id=id, quantity=quantity, price=price, type=type, supplier=supplier, note=note)\n",
    "    session.add(detail)\n",
    "    session.commit()\n",
    "    return detail\n",
    "\n",
    "# 根据商品 ID 查找商品记录的函数\n",
    "def read_product_detail(id):\n",
    "    with Session() as s:\n",
    "        results = s.query(Detail).filter_by(id=id).all()\n",
    "    df = pd.DataFrame([(d.id, d.detail_ts, d.quantity, d.price, d.type, d.supplier, d.note) for d in results], \n",
    "                      columns=['id', 'detail_ts', 'quantity', 'price', 'type', 'supplier', 'note'])\n",
    "    return df\n",
    "\n",
    "def get_detail_data():\n",
    "    with Session() as s:\n",
    "        results = s.query(Detail).all()\n",
    "    df = pd.DataFrame([(d.id, d.detail_ts, d.quantity, d.price, d.type, d.supplier, d.note) for d in results], \n",
    "                      columns=['id', 'detail_ts', 'quantity', 'price', 'type', 'supplier', 'note'])\n",
    "    return df.sort_values('detail_ts')\n",
    "\n",
    "\n",
    "# Base.metadata.drop_all(engine)"
   ]
  },
  {
   "cell_type": "code",
   "execution_count": 113,
   "metadata": {},
   "outputs": [],
   "source": [
    "colors = [\"紅\", \"綠\", \"藍\", \"黃\", \"黑\", \"灰\"]\n",
    "size = [\"S\", \"M\", \"L\", \"2L\", \"XL\", \"XXL\"]\n",
    "\n",
    "for c in colors:\n",
    "    for s in size:\n",
    "        for pt in ['男褲', '女瑜珈褲', '中性壓力褲']:\n",
    "            create_product(pt, c, s)\n",
    "\n",
    "# create_product('女裝', '黑', 'color')"
   ]
  },
  {
   "cell_type": "code",
   "execution_count": 189,
   "metadata": {},
   "outputs": [],
   "source": [
    "quantity = range(50, 201, 70)\n",
    "type = ['IN', 'OUT']\n",
    "supplier = ['柏國', '蝦皮']\n",
    "\n",
    "r = 0\n",
    "for _ in range(10):\n",
    "    for i in get_product_data().id.sample(100).values:\n",
    "        for t in type:\n",
    "            for s in supplier:\n",
    "                m = 3 if t == 'IN' else -1\n",
    "                create_product＿detail(i, pd.Series([50,150,250]).sample(1).values[0] * m, 500 + pd.Series([100,500,1500]).sample(1).values[0], t, s)"
   ]
  },
  {
   "cell_type": "code",
   "execution_count": 103,
   "metadata": {},
   "outputs": [
    {
     "data": {
      "text/html": [
       "<div>\n",
       "<style scoped>\n",
       "    .dataframe tbody tr th:only-of-type {\n",
       "        vertical-align: middle;\n",
       "    }\n",
       "\n",
       "    .dataframe tbody tr th {\n",
       "        vertical-align: top;\n",
       "    }\n",
       "\n",
       "    .dataframe thead th {\n",
       "        text-align: right;\n",
       "    }\n",
       "</style>\n",
       "<table border=\"1\" class=\"dataframe\">\n",
       "  <thead>\n",
       "    <tr style=\"text-align: right;\">\n",
       "      <th></th>\n",
       "      <th>id</th>\n",
       "      <th>name</th>\n",
       "      <th>color</th>\n",
       "      <th>size</th>\n",
       "      <th>photo_path</th>\n",
       "      <th>product_ts</th>\n",
       "    </tr>\n",
       "  </thead>\n",
       "  <tbody>\n",
       "    <tr>\n",
       "      <th>0</th>\n",
       "      <td>男褲_紅_S</td>\n",
       "      <td>男褲</td>\n",
       "      <td>紅</td>\n",
       "      <td>S</td>\n",
       "      <td>None</td>\n",
       "      <td>2023-05-10 20:53:06.777552</td>\n",
       "    </tr>\n",
       "    <tr>\n",
       "      <th>1</th>\n",
       "      <td>女瑜珈褲_紅_S</td>\n",
       "      <td>女瑜珈褲</td>\n",
       "      <td>紅</td>\n",
       "      <td>S</td>\n",
       "      <td>None</td>\n",
       "      <td>2023-05-10 20:53:06.786553</td>\n",
       "    </tr>\n",
       "    <tr>\n",
       "      <th>2</th>\n",
       "      <td>中性壓力褲_紅_S</td>\n",
       "      <td>中性壓力褲</td>\n",
       "      <td>紅</td>\n",
       "      <td>S</td>\n",
       "      <td>None</td>\n",
       "      <td>2023-05-10 20:53:06.789553</td>\n",
       "    </tr>\n",
       "    <tr>\n",
       "      <th>3</th>\n",
       "      <td>男褲_紅_M</td>\n",
       "      <td>男褲</td>\n",
       "      <td>紅</td>\n",
       "      <td>M</td>\n",
       "      <td>None</td>\n",
       "      <td>2023-05-10 20:53:06.792552</td>\n",
       "    </tr>\n",
       "    <tr>\n",
       "      <th>4</th>\n",
       "      <td>女瑜珈褲_紅_M</td>\n",
       "      <td>女瑜珈褲</td>\n",
       "      <td>紅</td>\n",
       "      <td>M</td>\n",
       "      <td>None</td>\n",
       "      <td>2023-05-10 20:53:06.796553</td>\n",
       "    </tr>\n",
       "    <tr>\n",
       "      <th>...</th>\n",
       "      <td>...</td>\n",
       "      <td>...</td>\n",
       "      <td>...</td>\n",
       "      <td>...</td>\n",
       "      <td>...</td>\n",
       "      <td>...</td>\n",
       "    </tr>\n",
       "    <tr>\n",
       "      <th>103</th>\n",
       "      <td>女瑜珈褲_灰_XL</td>\n",
       "      <td>女瑜珈褲</td>\n",
       "      <td>灰</td>\n",
       "      <td>XL</td>\n",
       "      <td>None</td>\n",
       "      <td>2023-05-10 20:53:07.122555</td>\n",
       "    </tr>\n",
       "    <tr>\n",
       "      <th>104</th>\n",
       "      <td>中性壓力褲_灰_XL</td>\n",
       "      <td>中性壓力褲</td>\n",
       "      <td>灰</td>\n",
       "      <td>XL</td>\n",
       "      <td>None</td>\n",
       "      <td>2023-05-10 20:53:07.125555</td>\n",
       "    </tr>\n",
       "    <tr>\n",
       "      <th>105</th>\n",
       "      <td>男褲_灰_XXL</td>\n",
       "      <td>男褲</td>\n",
       "      <td>灰</td>\n",
       "      <td>XXL</td>\n",
       "      <td>None</td>\n",
       "      <td>2023-05-10 20:53:07.128551</td>\n",
       "    </tr>\n",
       "    <tr>\n",
       "      <th>106</th>\n",
       "      <td>女瑜珈褲_灰_XXL</td>\n",
       "      <td>女瑜珈褲</td>\n",
       "      <td>灰</td>\n",
       "      <td>XXL</td>\n",
       "      <td>None</td>\n",
       "      <td>2023-05-10 20:53:07.131552</td>\n",
       "    </tr>\n",
       "    <tr>\n",
       "      <th>107</th>\n",
       "      <td>中性壓力褲_灰_XXL</td>\n",
       "      <td>中性壓力褲</td>\n",
       "      <td>灰</td>\n",
       "      <td>XXL</td>\n",
       "      <td>None</td>\n",
       "      <td>2023-05-10 20:53:07.134553</td>\n",
       "    </tr>\n",
       "  </tbody>\n",
       "</table>\n",
       "<p>108 rows × 6 columns</p>\n",
       "</div>"
      ],
      "text/plain": [
       "              id   name color size photo_path                 product_ts\n",
       "0         男褲_紅_S     男褲     紅    S       None 2023-05-10 20:53:06.777552\n",
       "1       女瑜珈褲_紅_S   女瑜珈褲     紅    S       None 2023-05-10 20:53:06.786553\n",
       "2      中性壓力褲_紅_S  中性壓力褲     紅    S       None 2023-05-10 20:53:06.789553\n",
       "3         男褲_紅_M     男褲     紅    M       None 2023-05-10 20:53:06.792552\n",
       "4       女瑜珈褲_紅_M   女瑜珈褲     紅    M       None 2023-05-10 20:53:06.796553\n",
       "..           ...    ...   ...  ...        ...                        ...\n",
       "103    女瑜珈褲_灰_XL   女瑜珈褲     灰   XL       None 2023-05-10 20:53:07.122555\n",
       "104   中性壓力褲_灰_XL  中性壓力褲     灰   XL       None 2023-05-10 20:53:07.125555\n",
       "105     男褲_灰_XXL     男褲     灰  XXL       None 2023-05-10 20:53:07.128551\n",
       "106   女瑜珈褲_灰_XXL   女瑜珈褲     灰  XXL       None 2023-05-10 20:53:07.131552\n",
       "107  中性壓力褲_灰_XXL  中性壓力褲     灰  XXL       None 2023-05-10 20:53:07.134553\n",
       "\n",
       "[108 rows x 6 columns]"
      ]
     },
     "execution_count": 103,
     "metadata": {},
     "output_type": "execute_result"
    }
   ],
   "source": [
    "get_product_data()"
   ]
  },
  {
   "cell_type": "code",
   "execution_count": 190,
   "metadata": {},
   "outputs": [
    {
     "data": {
      "text/html": [
       "<div>\n",
       "<style scoped>\n",
       "    .dataframe tbody tr th:only-of-type {\n",
       "        vertical-align: middle;\n",
       "    }\n",
       "\n",
       "    .dataframe tbody tr th {\n",
       "        vertical-align: top;\n",
       "    }\n",
       "\n",
       "    .dataframe thead th {\n",
       "        text-align: right;\n",
       "    }\n",
       "</style>\n",
       "<table border=\"1\" class=\"dataframe\">\n",
       "  <thead>\n",
       "    <tr style=\"text-align: right;\">\n",
       "      <th></th>\n",
       "      <th>id</th>\n",
       "      <th>detail_ts</th>\n",
       "      <th>quantity</th>\n",
       "      <th>price</th>\n",
       "      <th>type</th>\n",
       "      <th>supplier</th>\n",
       "      <th>note</th>\n",
       "    </tr>\n",
       "  </thead>\n",
       "  <tbody>\n",
       "    <tr>\n",
       "      <th>2994</th>\n",
       "      <td>男褲_黑_L</td>\n",
       "      <td>2015-02-24 23:32:35.699378</td>\n",
       "      <td>-50.0</td>\n",
       "      <td>1000.0</td>\n",
       "      <td>OUT</td>\n",
       "      <td>柏國</td>\n",
       "      <td>None</td>\n",
       "    </tr>\n",
       "    <tr>\n",
       "      <th>4465</th>\n",
       "      <td>女瑜珈褲_黃_L</td>\n",
       "      <td>2015-02-24 23:32:41.263774</td>\n",
       "      <td>450.0</td>\n",
       "      <td>2000.0</td>\n",
       "      <td>IN</td>\n",
       "      <td>蝦皮</td>\n",
       "      <td>None</td>\n",
       "    </tr>\n",
       "    <tr>\n",
       "      <th>5096</th>\n",
       "      <td>中性壓力褲_綠_L</td>\n",
       "      <td>2015-02-24 23:32:45.125192</td>\n",
       "      <td>150.0</td>\n",
       "      <td>1000.0</td>\n",
       "      <td>IN</td>\n",
       "      <td>柏國</td>\n",
       "      <td>None</td>\n",
       "    </tr>\n",
       "    <tr>\n",
       "      <th>3404</th>\n",
       "      <td>男褲_綠_2L</td>\n",
       "      <td>2015-02-26 23:32:37.221376</td>\n",
       "      <td>750.0</td>\n",
       "      <td>2000.0</td>\n",
       "      <td>IN</td>\n",
       "      <td>柏國</td>\n",
       "      <td>None</td>\n",
       "    </tr>\n",
       "    <tr>\n",
       "      <th>3699</th>\n",
       "      <td>女瑜珈褲_灰_M</td>\n",
       "      <td>2015-02-26 23:32:38.338376</td>\n",
       "      <td>-150.0</td>\n",
       "      <td>2000.0</td>\n",
       "      <td>OUT</td>\n",
       "      <td>蝦皮</td>\n",
       "      <td>None</td>\n",
       "    </tr>\n",
       "    <tr>\n",
       "      <th>...</th>\n",
       "      <td>...</td>\n",
       "      <td>...</td>\n",
       "      <td>...</td>\n",
       "      <td>...</td>\n",
       "      <td>...</td>\n",
       "      <td>...</td>\n",
       "      <td>...</td>\n",
       "    </tr>\n",
       "    <tr>\n",
       "      <th>410</th>\n",
       "      <td>女瑜珈褲_灰_L</td>\n",
       "      <td>2023-05-09 23:31:18.950836</td>\n",
       "      <td>-250.0</td>\n",
       "      <td>600.0</td>\n",
       "      <td>OUT</td>\n",
       "      <td>柏國</td>\n",
       "      <td>None</td>\n",
       "    </tr>\n",
       "    <tr>\n",
       "      <th>570</th>\n",
       "      <td>中性壓力褲_黑_2L</td>\n",
       "      <td>2023-05-09 23:31:19.610426</td>\n",
       "      <td>-50.0</td>\n",
       "      <td>600.0</td>\n",
       "      <td>OUT</td>\n",
       "      <td>柏國</td>\n",
       "      <td>None</td>\n",
       "    </tr>\n",
       "    <tr>\n",
       "      <th>799</th>\n",
       "      <td>中性壓力褲_綠_S</td>\n",
       "      <td>2023-05-09 23:31:42.628877</td>\n",
       "      <td>-50.0</td>\n",
       "      <td>600.0</td>\n",
       "      <td>OUT</td>\n",
       "      <td>蝦皮</td>\n",
       "      <td>None</td>\n",
       "    </tr>\n",
       "    <tr>\n",
       "      <th>1964</th>\n",
       "      <td>男褲_藍_2L</td>\n",
       "      <td>2023-05-09 23:32:31.485673</td>\n",
       "      <td>450.0</td>\n",
       "      <td>1000.0</td>\n",
       "      <td>IN</td>\n",
       "      <td>柏國</td>\n",
       "      <td>None</td>\n",
       "    </tr>\n",
       "    <tr>\n",
       "      <th>1034</th>\n",
       "      <td>男褲_黑_S</td>\n",
       "      <td>2023-05-10 23:31:43.539830</td>\n",
       "      <td>-150.0</td>\n",
       "      <td>600.0</td>\n",
       "      <td>OUT</td>\n",
       "      <td>柏國</td>\n",
       "      <td>None</td>\n",
       "    </tr>\n",
       "  </tbody>\n",
       "</table>\n",
       "<p>5160 rows × 7 columns</p>\n",
       "</div>"
      ],
      "text/plain": [
       "              id                  detail_ts  quantity   price type supplier  \\\n",
       "2994      男褲_黑_L 2015-02-24 23:32:35.699378     -50.0  1000.0  OUT       柏國   \n",
       "4465    女瑜珈褲_黃_L 2015-02-24 23:32:41.263774     450.0  2000.0   IN       蝦皮   \n",
       "5096   中性壓力褲_綠_L 2015-02-24 23:32:45.125192     150.0  1000.0   IN       柏國   \n",
       "3404     男褲_綠_2L 2015-02-26 23:32:37.221376     750.0  2000.0   IN       柏國   \n",
       "3699    女瑜珈褲_灰_M 2015-02-26 23:32:38.338376    -150.0  2000.0  OUT       蝦皮   \n",
       "...          ...                        ...       ...     ...  ...      ...   \n",
       "410     女瑜珈褲_灰_L 2023-05-09 23:31:18.950836    -250.0   600.0  OUT       柏國   \n",
       "570   中性壓力褲_黑_2L 2023-05-09 23:31:19.610426     -50.0   600.0  OUT       柏國   \n",
       "799    中性壓力褲_綠_S 2023-05-09 23:31:42.628877     -50.0   600.0  OUT       蝦皮   \n",
       "1964     男褲_藍_2L 2023-05-09 23:32:31.485673     450.0  1000.0   IN       柏國   \n",
       "1034      男褲_黑_S 2023-05-10 23:31:43.539830    -150.0   600.0  OUT       柏國   \n",
       "\n",
       "      note  \n",
       "2994  None  \n",
       "4465  None  \n",
       "5096  None  \n",
       "3404  None  \n",
       "3699  None  \n",
       "...    ...  \n",
       "410   None  \n",
       "570   None  \n",
       "799   None  \n",
       "1964  None  \n",
       "1034  None  \n",
       "\n",
       "[5160 rows x 7 columns]"
      ]
     },
     "execution_count": 190,
     "metadata": {},
     "output_type": "execute_result"
    }
   ],
   "source": [
    "from sqlalchemy import select\n",
    "\n",
    "def get_detail_with_product_info():\n",
    "    with Session() as s:\n",
    "        results = s.query(Detail).all()\n",
    "    df = pd.DataFrame([(d.id, d.detail_ts, d.quantity, d.price, d.type, d.supplier, d.note) for d in results], \n",
    "                      columns=['id', 'detail_ts', 'quantity', 'price', 'type', 'supplier', 'note'])\n",
    "    return df.sort_values('detail_ts')\n",
    "\n",
    "df = get_detail_data()\n",
    "df"
   ]
  },
  {
   "cell_type": "code",
   "execution_count": 191,
   "metadata": {},
   "outputs": [
    {
     "data": {
      "text/plain": [
       "id\n",
       "中性壓力褲_灰_2L    1384.615385\n",
       "中性壓力褲_灰_L     1381.818182\n",
       "中性壓力褲_灰_M     1020.000000\n",
       "中性壓力褲_灰_S     1458.333333\n",
       "中性壓力褲_灰_XL    1044.444444\n",
       "                 ...     \n",
       "男褲_黑_L        1183.333333\n",
       "男褲_黑_M         900.000000\n",
       "男褲_黑_S        1200.000000\n",
       "男褲_黑_XL       1241.666667\n",
       "男褲_黑_XXL      1172.727273\n",
       "Length: 108, dtype: float64"
      ]
     },
     "execution_count": 191,
     "metadata": {},
     "output_type": "execute_result"
    }
   ],
   "source": [
    "v = df.groupby('id').quantity.sum()\n",
    "p = df.groupby('id').apply(lambda x:x.price[x.quantity>0].mean())\n",
    "o = df.groupby('id').apply(lambda x:x.price[x.quantity<0].mean())\n",
    "p\n",
    "o"
   ]
  },
  {
   "cell_type": "code",
   "execution_count": 192,
   "metadata": {},
   "outputs": [
    {
     "data": {
      "text/html": [
       "<div>\n",
       "<style scoped>\n",
       "    .dataframe tbody tr th:only-of-type {\n",
       "        vertical-align: middle;\n",
       "    }\n",
       "\n",
       "    .dataframe tbody tr th {\n",
       "        vertical-align: top;\n",
       "    }\n",
       "\n",
       "    .dataframe thead th {\n",
       "        text-align: right;\n",
       "    }\n",
       "</style>\n",
       "<table border=\"1\" class=\"dataframe\">\n",
       "  <thead>\n",
       "    <tr style=\"text-align: right;\">\n",
       "      <th></th>\n",
       "      <th>id</th>\n",
       "      <th>type_x</th>\n",
       "      <th>進出數量_x</th>\n",
       "      <th>平均成本_x</th>\n",
       "      <th>總金額_x</th>\n",
       "      <th>type_y</th>\n",
       "      <th>進出數量_y</th>\n",
       "      <th>平均成本_y</th>\n",
       "      <th>總金額_y</th>\n",
       "    </tr>\n",
       "  </thead>\n",
       "  <tbody>\n",
       "    <tr>\n",
       "      <th>0</th>\n",
       "      <td>中性壓力褲_灰_2L</td>\n",
       "      <td>IN</td>\n",
       "      <td>10200.0</td>\n",
       "      <td>1092.307692</td>\n",
       "      <td>11138400.0</td>\n",
       "      <td>OUT</td>\n",
       "      <td>-4200.0</td>\n",
       "      <td>1384.615385</td>\n",
       "      <td>-5817000.0</td>\n",
       "    </tr>\n",
       "    <tr>\n",
       "      <th>1</th>\n",
       "      <td>中性壓力褲_灰_L</td>\n",
       "      <td>IN</td>\n",
       "      <td>12000.0</td>\n",
       "      <td>1381.818182</td>\n",
       "      <td>16584000.0</td>\n",
       "      <td>OUT</td>\n",
       "      <td>-3600.0</td>\n",
       "      <td>1381.818182</td>\n",
       "      <td>-4975200.0</td>\n",
       "    </tr>\n",
       "    <tr>\n",
       "      <th>2</th>\n",
       "      <td>中性壓力褲_灰_M</td>\n",
       "      <td>IN</td>\n",
       "      <td>9000.0</td>\n",
       "      <td>1120.000000</td>\n",
       "      <td>10080000.0</td>\n",
       "      <td>OUT</td>\n",
       "      <td>-3300.0</td>\n",
       "      <td>1020.000000</td>\n",
       "      <td>-3366000.0</td>\n",
       "    </tr>\n",
       "    <tr>\n",
       "      <th>3</th>\n",
       "      <td>中性壓力褲_灰_S</td>\n",
       "      <td>IN</td>\n",
       "      <td>10500.0</td>\n",
       "      <td>1208.333333</td>\n",
       "      <td>12684000.0</td>\n",
       "      <td>OUT</td>\n",
       "      <td>-3600.0</td>\n",
       "      <td>1458.333333</td>\n",
       "      <td>-5248800.0</td>\n",
       "    </tr>\n",
       "    <tr>\n",
       "      <th>4</th>\n",
       "      <td>中性壓力褲_灰_XL</td>\n",
       "      <td>IN</td>\n",
       "      <td>8100.0</td>\n",
       "      <td>1211.111111</td>\n",
       "      <td>9809100.0</td>\n",
       "      <td>OUT</td>\n",
       "      <td>-3100.0</td>\n",
       "      <td>1044.444444</td>\n",
       "      <td>-3236400.0</td>\n",
       "    </tr>\n",
       "    <tr>\n",
       "      <th>...</th>\n",
       "      <td>...</td>\n",
       "      <td>...</td>\n",
       "      <td>...</td>\n",
       "      <td>...</td>\n",
       "      <td>...</td>\n",
       "      <td>...</td>\n",
       "      <td>...</td>\n",
       "      <td>...</td>\n",
       "      <td>...</td>\n",
       "    </tr>\n",
       "    <tr>\n",
       "      <th>103</th>\n",
       "      <td>男褲_黑_L</td>\n",
       "      <td>IN</td>\n",
       "      <td>9000.0</td>\n",
       "      <td>1158.333333</td>\n",
       "      <td>10422000.0</td>\n",
       "      <td>OUT</td>\n",
       "      <td>-4000.0</td>\n",
       "      <td>1183.333333</td>\n",
       "      <td>-4732000.0</td>\n",
       "    </tr>\n",
       "    <tr>\n",
       "      <th>104</th>\n",
       "      <td>男褲_黑_M</td>\n",
       "      <td>IN</td>\n",
       "      <td>9600.0</td>\n",
       "      <td>1180.000000</td>\n",
       "      <td>11328000.0</td>\n",
       "      <td>OUT</td>\n",
       "      <td>-3000.0</td>\n",
       "      <td>900.000000</td>\n",
       "      <td>-2700000.0</td>\n",
       "    </tr>\n",
       "    <tr>\n",
       "      <th>105</th>\n",
       "      <td>男褲_黑_S</td>\n",
       "      <td>IN</td>\n",
       "      <td>6600.0</td>\n",
       "      <td>1166.666667</td>\n",
       "      <td>7702200.0</td>\n",
       "      <td>OUT</td>\n",
       "      <td>-2900.0</td>\n",
       "      <td>1200.000000</td>\n",
       "      <td>-3480000.0</td>\n",
       "    </tr>\n",
       "    <tr>\n",
       "      <th>106</th>\n",
       "      <td>男褲_黑_XL</td>\n",
       "      <td>IN</td>\n",
       "      <td>9600.0</td>\n",
       "      <td>1050.000000</td>\n",
       "      <td>10080000.0</td>\n",
       "      <td>OUT</td>\n",
       "      <td>-3000.0</td>\n",
       "      <td>1241.666667</td>\n",
       "      <td>-3726000.0</td>\n",
       "    </tr>\n",
       "    <tr>\n",
       "      <th>107</th>\n",
       "      <td>男褲_黑_XXL</td>\n",
       "      <td>IN</td>\n",
       "      <td>9300.0</td>\n",
       "      <td>1263.636364</td>\n",
       "      <td>11755200.0</td>\n",
       "      <td>OUT</td>\n",
       "      <td>-3400.0</td>\n",
       "      <td>1172.727273</td>\n",
       "      <td>-3988200.0</td>\n",
       "    </tr>\n",
       "  </tbody>\n",
       "</table>\n",
       "<p>108 rows × 9 columns</p>\n",
       "</div>"
      ],
      "text/plain": [
       "             id type_x   進出數量_x       平均成本_x       總金額_x type_y  進出數量_y  \\\n",
       "0    中性壓力褲_灰_2L     IN  10200.0  1092.307692  11138400.0    OUT -4200.0   \n",
       "1     中性壓力褲_灰_L     IN  12000.0  1381.818182  16584000.0    OUT -3600.0   \n",
       "2     中性壓力褲_灰_M     IN   9000.0  1120.000000  10080000.0    OUT -3300.0   \n",
       "3     中性壓力褲_灰_S     IN  10500.0  1208.333333  12684000.0    OUT -3600.0   \n",
       "4    中性壓力褲_灰_XL     IN   8100.0  1211.111111   9809100.0    OUT -3100.0   \n",
       "..          ...    ...      ...          ...         ...    ...     ...   \n",
       "103      男褲_黑_L     IN   9000.0  1158.333333  10422000.0    OUT -4000.0   \n",
       "104      男褲_黑_M     IN   9600.0  1180.000000  11328000.0    OUT -3000.0   \n",
       "105      男褲_黑_S     IN   6600.0  1166.666667   7702200.0    OUT -2900.0   \n",
       "106     男褲_黑_XL     IN   9600.0  1050.000000  10080000.0    OUT -3000.0   \n",
       "107    男褲_黑_XXL     IN   9300.0  1263.636364  11755200.0    OUT -3400.0   \n",
       "\n",
       "          平均成本_y      總金額_y  \n",
       "0    1384.615385 -5817000.0  \n",
       "1    1381.818182 -4975200.0  \n",
       "2    1020.000000 -3366000.0  \n",
       "3    1458.333333 -5248800.0  \n",
       "4    1044.444444 -3236400.0  \n",
       "..           ...        ...  \n",
       "103  1183.333333 -4732000.0  \n",
       "104   900.000000 -2700000.0  \n",
       "105  1200.000000 -3480000.0  \n",
       "106  1241.666667 -3726000.0  \n",
       "107  1172.727273 -3988200.0  \n",
       "\n",
       "[108 rows x 9 columns]"
      ]
     },
     "execution_count": 192,
     "metadata": {},
     "output_type": "execute_result"
    }
   ],
   "source": [
    "ret = df.groupby(['id', 'type']).agg({'quantity': 'sum', 'price': 'mean'})\n",
    "ret.columns = ['進出數量', '平均成本']\n",
    "ret['總金額'] = ret['進出數量'] * ret['平均成本'].round()\n",
    "ret.reset_index()\n",
    "pd.merge(ret.query('type == \"IN\"').reset_index(), ret.query('type == \"OUT\"').reset_index(), on='id', how='outer').fillna(0)\n"
   ]
  },
  {
   "cell_type": "code",
   "execution_count": 202,
   "metadata": {},
   "outputs": [
    {
     "ename": "AttributeError",
     "evalue": "type object 'DOMWidget' has no attribute '_ipython_display_'",
     "output_type": "error",
     "traceback": [
      "\u001b[1;31m---------------------------------------------------------------------------\u001b[0m",
      "\u001b[1;31mAttributeError\u001b[0m                            Traceback (most recent call last)",
      "File \u001b[1;32mc:\\Users\\der\\.pyenv\\pyenv-win\\versions\\3.10.0\\lib\\site-packages\\IPython\\core\\formatters.py:922\u001b[0m, in \u001b[0;36mIPythonDisplayFormatter.__call__\u001b[1;34m(self, obj)\u001b[0m\n\u001b[0;32m    920\u001b[0m method \u001b[39m=\u001b[39m get_real_method(obj, \u001b[39mself\u001b[39m\u001b[39m.\u001b[39mprint_method)\n\u001b[0;32m    921\u001b[0m \u001b[39mif\u001b[39;00m method \u001b[39mis\u001b[39;00m \u001b[39mnot\u001b[39;00m \u001b[39mNone\u001b[39;00m:\n\u001b[1;32m--> 922\u001b[0m     method()\n\u001b[0;32m    923\u001b[0m     \u001b[39mreturn\u001b[39;00m \u001b[39mTrue\u001b[39;00m\n",
      "File \u001b[1;32mc:\\Users\\der\\.pyenv\\pyenv-win\\versions\\3.10.0\\lib\\site-packages\\plotly\\basewidget.py:741\u001b[0m, in \u001b[0;36mBaseFigureWidget._ipython_display_\u001b[1;34m(self)\u001b[0m\n\u001b[0;32m    737\u001b[0m \u001b[39m\u001b[39m\u001b[39m\"\"\"\u001b[39;00m\n\u001b[0;32m    738\u001b[0m \u001b[39mHandle rich display of figures in ipython contexts\u001b[39;00m\n\u001b[0;32m    739\u001b[0m \u001b[39m\"\"\"\u001b[39;00m\n\u001b[0;32m    740\u001b[0m \u001b[39m# Override BaseFigure's display to make sure we display the widget version\u001b[39;00m\n\u001b[1;32m--> 741\u001b[0m widgets\u001b[39m.\u001b[39;49mDOMWidget\u001b[39m.\u001b[39;49m_ipython_display_(\u001b[39mself\u001b[39m)\n",
      "\u001b[1;31mAttributeError\u001b[0m: type object 'DOMWidget' has no attribute '_ipython_display_'"
     ]
    },
    {
     "data": {
      "application/vnd.plotly.v1+json": {
       "config": {
        "plotlyServerURL": "https://plot.ly"
       },
       "data": [
        {
         "showlegend": false,
         "type": "bar",
         "uid": "3b8aa52e-8ae5-4c3a-9cd8-1b8ecf720f04",
         "x": [
          0,
          1,
          2,
          3,
          4,
          5,
          6,
          7,
          8,
          9,
          10,
          11,
          12,
          13,
          14,
          15,
          16,
          17,
          18,
          19,
          20,
          21,
          22,
          23,
          24,
          25,
          26,
          27,
          28,
          29,
          30,
          31,
          32,
          33,
          34,
          35,
          36,
          37,
          38,
          39,
          40,
          41,
          42,
          43,
          44,
          45,
          46,
          47,
          48,
          49,
          50
         ],
         "y": [
          -250,
          150,
          450,
          450,
          750,
          150,
          750,
          -250,
          150,
          150,
          -50,
          -50,
          -250,
          150,
          150,
          -250,
          -250,
          150,
          -50,
          -50,
          -50,
          450,
          -150,
          -150,
          750,
          150,
          -250,
          -150,
          450,
          150,
          750,
          -150,
          -50,
          -150,
          -250,
          450,
          450,
          -250,
          -150,
          150,
          150,
          -250,
          -50,
          450,
          450,
          -500,
          750,
          -150,
          750,
          450,
          -50
         ]
        },
        {
         "showlegend": false,
         "type": "scatter",
         "uid": "61bebd35-a687-4230-9947-3cebb03cfca2",
         "x": [
          0,
          1,
          2,
          3,
          4,
          5,
          6,
          7,
          8,
          9,
          10,
          11,
          12,
          13,
          14,
          15,
          16,
          17,
          18,
          19,
          20,
          21,
          22,
          23,
          24,
          25,
          26,
          27,
          28,
          29,
          30,
          31,
          32,
          33,
          34,
          35,
          36,
          37,
          38,
          39,
          40,
          41,
          42,
          43,
          44,
          45,
          46,
          47,
          48,
          49,
          50
         ],
         "y": [
          -250,
          -100,
          350,
          800,
          1550,
          1700,
          2450,
          2200,
          2350,
          2500,
          2450,
          2400,
          2150,
          2300,
          2450,
          2200,
          1950,
          2100,
          2050,
          2000,
          1950,
          2400,
          2250,
          2100,
          2850,
          3000,
          2750,
          2600,
          3050,
          3200,
          3950,
          3800,
          3750,
          3600,
          3350,
          3800,
          4250,
          4000,
          3850,
          4000,
          4150,
          3900,
          3850,
          4300,
          4750,
          4250,
          5000,
          4850,
          5600,
          6050,
          6000
         ]
        }
       ],
       "layout": {
        "height": 350,
        "legend": {
         "orientation": "h",
         "traceorder": "normal",
         "x": 1,
         "xanchor": "right",
         "y": 1.02,
         "yanchor": "bottom"
        },
        "margin": {
         "b": 30,
         "l": 30,
         "r": 30,
         "t": 30
        },
        "template": {
         "data": {
          "bar": [
           {
            "error_x": {
             "color": "#2a3f5f"
            },
            "error_y": {
             "color": "#2a3f5f"
            },
            "marker": {
             "line": {
              "color": "#E5ECF6",
              "width": 0.5
             }
            },
            "type": "bar"
           }
          ],
          "barpolar": [
           {
            "marker": {
             "line": {
              "color": "#E5ECF6",
              "width": 0.5
             }
            },
            "type": "barpolar"
           }
          ],
          "carpet": [
           {
            "aaxis": {
             "endlinecolor": "#2a3f5f",
             "gridcolor": "white",
             "linecolor": "white",
             "minorgridcolor": "white",
             "startlinecolor": "#2a3f5f"
            },
            "baxis": {
             "endlinecolor": "#2a3f5f",
             "gridcolor": "white",
             "linecolor": "white",
             "minorgridcolor": "white",
             "startlinecolor": "#2a3f5f"
            },
            "type": "carpet"
           }
          ],
          "choropleth": [
           {
            "colorbar": {
             "outlinewidth": 0,
             "ticks": ""
            },
            "type": "choropleth"
           }
          ],
          "contour": [
           {
            "colorbar": {
             "outlinewidth": 0,
             "ticks": ""
            },
            "colorscale": [
             [
              0,
              "#0d0887"
             ],
             [
              0.1111111111111111,
              "#46039f"
             ],
             [
              0.2222222222222222,
              "#7201a8"
             ],
             [
              0.3333333333333333,
              "#9c179e"
             ],
             [
              0.4444444444444444,
              "#bd3786"
             ],
             [
              0.5555555555555556,
              "#d8576b"
             ],
             [
              0.6666666666666666,
              "#ed7953"
             ],
             [
              0.7777777777777778,
              "#fb9f3a"
             ],
             [
              0.8888888888888888,
              "#fdca26"
             ],
             [
              1,
              "#f0f921"
             ]
            ],
            "type": "contour"
           }
          ],
          "contourcarpet": [
           {
            "colorbar": {
             "outlinewidth": 0,
             "ticks": ""
            },
            "type": "contourcarpet"
           }
          ],
          "heatmap": [
           {
            "colorbar": {
             "outlinewidth": 0,
             "ticks": ""
            },
            "colorscale": [
             [
              0,
              "#0d0887"
             ],
             [
              0.1111111111111111,
              "#46039f"
             ],
             [
              0.2222222222222222,
              "#7201a8"
             ],
             [
              0.3333333333333333,
              "#9c179e"
             ],
             [
              0.4444444444444444,
              "#bd3786"
             ],
             [
              0.5555555555555556,
              "#d8576b"
             ],
             [
              0.6666666666666666,
              "#ed7953"
             ],
             [
              0.7777777777777778,
              "#fb9f3a"
             ],
             [
              0.8888888888888888,
              "#fdca26"
             ],
             [
              1,
              "#f0f921"
             ]
            ],
            "type": "heatmap"
           }
          ],
          "heatmapgl": [
           {
            "colorbar": {
             "outlinewidth": 0,
             "ticks": ""
            },
            "colorscale": [
             [
              0,
              "#0d0887"
             ],
             [
              0.1111111111111111,
              "#46039f"
             ],
             [
              0.2222222222222222,
              "#7201a8"
             ],
             [
              0.3333333333333333,
              "#9c179e"
             ],
             [
              0.4444444444444444,
              "#bd3786"
             ],
             [
              0.5555555555555556,
              "#d8576b"
             ],
             [
              0.6666666666666666,
              "#ed7953"
             ],
             [
              0.7777777777777778,
              "#fb9f3a"
             ],
             [
              0.8888888888888888,
              "#fdca26"
             ],
             [
              1,
              "#f0f921"
             ]
            ],
            "type": "heatmapgl"
           }
          ],
          "histogram": [
           {
            "marker": {
             "colorbar": {
              "outlinewidth": 0,
              "ticks": ""
             }
            },
            "type": "histogram"
           }
          ],
          "histogram2d": [
           {
            "colorbar": {
             "outlinewidth": 0,
             "ticks": ""
            },
            "colorscale": [
             [
              0,
              "#0d0887"
             ],
             [
              0.1111111111111111,
              "#46039f"
             ],
             [
              0.2222222222222222,
              "#7201a8"
             ],
             [
              0.3333333333333333,
              "#9c179e"
             ],
             [
              0.4444444444444444,
              "#bd3786"
             ],
             [
              0.5555555555555556,
              "#d8576b"
             ],
             [
              0.6666666666666666,
              "#ed7953"
             ],
             [
              0.7777777777777778,
              "#fb9f3a"
             ],
             [
              0.8888888888888888,
              "#fdca26"
             ],
             [
              1,
              "#f0f921"
             ]
            ],
            "type": "histogram2d"
           }
          ],
          "histogram2dcontour": [
           {
            "colorbar": {
             "outlinewidth": 0,
             "ticks": ""
            },
            "colorscale": [
             [
              0,
              "#0d0887"
             ],
             [
              0.1111111111111111,
              "#46039f"
             ],
             [
              0.2222222222222222,
              "#7201a8"
             ],
             [
              0.3333333333333333,
              "#9c179e"
             ],
             [
              0.4444444444444444,
              "#bd3786"
             ],
             [
              0.5555555555555556,
              "#d8576b"
             ],
             [
              0.6666666666666666,
              "#ed7953"
             ],
             [
              0.7777777777777778,
              "#fb9f3a"
             ],
             [
              0.8888888888888888,
              "#fdca26"
             ],
             [
              1,
              "#f0f921"
             ]
            ],
            "type": "histogram2dcontour"
           }
          ],
          "mesh3d": [
           {
            "colorbar": {
             "outlinewidth": 0,
             "ticks": ""
            },
            "type": "mesh3d"
           }
          ],
          "parcoords": [
           {
            "line": {
             "colorbar": {
              "outlinewidth": 0,
              "ticks": ""
             }
            },
            "type": "parcoords"
           }
          ],
          "pie": [
           {
            "automargin": true,
            "type": "pie"
           }
          ],
          "scatter": [
           {
            "marker": {
             "colorbar": {
              "outlinewidth": 0,
              "ticks": ""
             }
            },
            "type": "scatter"
           }
          ],
          "scatter3d": [
           {
            "line": {
             "colorbar": {
              "outlinewidth": 0,
              "ticks": ""
             }
            },
            "marker": {
             "colorbar": {
              "outlinewidth": 0,
              "ticks": ""
             }
            },
            "type": "scatter3d"
           }
          ],
          "scattercarpet": [
           {
            "marker": {
             "colorbar": {
              "outlinewidth": 0,
              "ticks": ""
             }
            },
            "type": "scattercarpet"
           }
          ],
          "scattergeo": [
           {
            "marker": {
             "colorbar": {
              "outlinewidth": 0,
              "ticks": ""
             }
            },
            "type": "scattergeo"
           }
          ],
          "scattergl": [
           {
            "marker": {
             "colorbar": {
              "outlinewidth": 0,
              "ticks": ""
             }
            },
            "type": "scattergl"
           }
          ],
          "scattermapbox": [
           {
            "marker": {
             "colorbar": {
              "outlinewidth": 0,
              "ticks": ""
             }
            },
            "type": "scattermapbox"
           }
          ],
          "scatterpolar": [
           {
            "marker": {
             "colorbar": {
              "outlinewidth": 0,
              "ticks": ""
             }
            },
            "type": "scatterpolar"
           }
          ],
          "scatterpolargl": [
           {
            "marker": {
             "colorbar": {
              "outlinewidth": 0,
              "ticks": ""
             }
            },
            "type": "scatterpolargl"
           }
          ],
          "scatterternary": [
           {
            "marker": {
             "colorbar": {
              "outlinewidth": 0,
              "ticks": ""
             }
            },
            "type": "scatterternary"
           }
          ],
          "surface": [
           {
            "colorbar": {
             "outlinewidth": 0,
             "ticks": ""
            },
            "colorscale": [
             [
              0,
              "#0d0887"
             ],
             [
              0.1111111111111111,
              "#46039f"
             ],
             [
              0.2222222222222222,
              "#7201a8"
             ],
             [
              0.3333333333333333,
              "#9c179e"
             ],
             [
              0.4444444444444444,
              "#bd3786"
             ],
             [
              0.5555555555555556,
              "#d8576b"
             ],
             [
              0.6666666666666666,
              "#ed7953"
             ],
             [
              0.7777777777777778,
              "#fb9f3a"
             ],
             [
              0.8888888888888888,
              "#fdca26"
             ],
             [
              1,
              "#f0f921"
             ]
            ],
            "type": "surface"
           }
          ],
          "table": [
           {
            "cells": {
             "fill": {
              "color": "#EBF0F8"
             },
             "line": {
              "color": "white"
             }
            },
            "header": {
             "fill": {
              "color": "#C8D4E3"
             },
             "line": {
              "color": "white"
             }
            },
            "type": "table"
           }
          ]
         },
         "layout": {
          "annotationdefaults": {
           "arrowcolor": "#2a3f5f",
           "arrowhead": 0,
           "arrowwidth": 1
          },
          "coloraxis": {
           "colorbar": {
            "outlinewidth": 0,
            "ticks": ""
           }
          },
          "colorscale": {
           "diverging": [
            [
             0,
             "#8e0152"
            ],
            [
             0.1,
             "#c51b7d"
            ],
            [
             0.2,
             "#de77ae"
            ],
            [
             0.3,
             "#f1b6da"
            ],
            [
             0.4,
             "#fde0ef"
            ],
            [
             0.5,
             "#f7f7f7"
            ],
            [
             0.6,
             "#e6f5d0"
            ],
            [
             0.7,
             "#b8e186"
            ],
            [
             0.8,
             "#7fbc41"
            ],
            [
             0.9,
             "#4d9221"
            ],
            [
             1,
             "#276419"
            ]
           ],
           "sequential": [
            [
             0,
             "#0d0887"
            ],
            [
             0.1111111111111111,
             "#46039f"
            ],
            [
             0.2222222222222222,
             "#7201a8"
            ],
            [
             0.3333333333333333,
             "#9c179e"
            ],
            [
             0.4444444444444444,
             "#bd3786"
            ],
            [
             0.5555555555555556,
             "#d8576b"
            ],
            [
             0.6666666666666666,
             "#ed7953"
            ],
            [
             0.7777777777777778,
             "#fb9f3a"
            ],
            [
             0.8888888888888888,
             "#fdca26"
            ],
            [
             1,
             "#f0f921"
            ]
           ],
           "sequentialminus": [
            [
             0,
             "#0d0887"
            ],
            [
             0.1111111111111111,
             "#46039f"
            ],
            [
             0.2222222222222222,
             "#7201a8"
            ],
            [
             0.3333333333333333,
             "#9c179e"
            ],
            [
             0.4444444444444444,
             "#bd3786"
            ],
            [
             0.5555555555555556,
             "#d8576b"
            ],
            [
             0.6666666666666666,
             "#ed7953"
            ],
            [
             0.7777777777777778,
             "#fb9f3a"
            ],
            [
             0.8888888888888888,
             "#fdca26"
            ],
            [
             1,
             "#f0f921"
            ]
           ]
          },
          "colorway": [
           "#1f77b4",
           "#ff7f0e",
           "#2ca02c",
           "#dc3912",
           "#9467bd",
           "#8c564b",
           "#e377c2",
           "#7f7f7f",
           "#bcbd22",
           "#17becf"
          ],
          "font": {
           "color": "#2a3f5f"
          },
          "geo": {
           "bgcolor": "white",
           "lakecolor": "white",
           "landcolor": "#E5ECF6",
           "showlakes": true,
           "showland": true,
           "subunitcolor": "white"
          },
          "hoverlabel": {
           "align": "left"
          },
          "hovermode": "closest",
          "mapbox": {
           "style": "light"
          },
          "paper_bgcolor": "white",
          "plot_bgcolor": "#E5ECF6",
          "polar": {
           "angularaxis": {
            "gridcolor": "white",
            "linecolor": "white",
            "ticks": ""
           },
           "bgcolor": "#E5ECF6",
           "radialaxis": {
            "gridcolor": "white",
            "linecolor": "white",
            "ticks": ""
           }
          },
          "scene": {
           "xaxis": {
            "backgroundcolor": "#E5ECF6",
            "gridcolor": "white",
            "gridwidth": 2,
            "linecolor": "white",
            "showbackground": true,
            "ticks": "",
            "zerolinecolor": "white"
           },
           "yaxis": {
            "backgroundcolor": "#E5ECF6",
            "gridcolor": "white",
            "gridwidth": 2,
            "linecolor": "white",
            "showbackground": true,
            "ticks": "",
            "zerolinecolor": "white"
           },
           "zaxis": {
            "backgroundcolor": "#E5ECF6",
            "gridcolor": "white",
            "gridwidth": 2,
            "linecolor": "white",
            "showbackground": true,
            "ticks": "",
            "zerolinecolor": "white"
           }
          },
          "shapedefaults": {
           "line": {
            "color": "#2a3f5f"
           }
          },
          "ternary": {
           "aaxis": {
            "gridcolor": "white",
            "linecolor": "white",
            "ticks": ""
           },
           "baxis": {
            "gridcolor": "white",
            "linecolor": "white",
            "ticks": ""
           },
           "bgcolor": "#E5ECF6",
           "caxis": {
            "gridcolor": "white",
            "linecolor": "white",
            "ticks": ""
           }
          },
          "title": {
           "x": 0.05
          },
          "xaxis": {
           "automargin": true,
           "gridcolor": "white",
           "linecolor": "white",
           "ticks": "",
           "title": {
            "standoff": 15
           },
           "zerolinecolor": "white",
           "zerolinewidth": 2
          },
          "yaxis": {
           "automargin": true,
           "gridcolor": "white",
           "linecolor": "white",
           "ticks": "",
           "title": {
            "standoff": 15
           },
           "zerolinecolor": "white",
           "zerolinewidth": 2
          }
         }
        },
        "width": 700
       }
      },
      "text/html": [
       "<div>                        <script type=\"text/javascript\">window.PlotlyConfig = {MathJaxConfig: 'local'};</script>\n",
       "        <script src=\"https://cdn.plot.ly/plotly-2.16.1.min.js\"></script>                <div id=\"42d07663-7631-4174-9208-34d9b5a5f3c6\" class=\"plotly-graph-div\" style=\"height:350px; width:700px;\"></div>            <script type=\"text/javascript\">                                    window.PLOTLYENV=window.PLOTLYENV || {};                                    if (document.getElementById(\"42d07663-7631-4174-9208-34d9b5a5f3c6\")) {                    Plotly.newPlot(                        \"42d07663-7631-4174-9208-34d9b5a5f3c6\",                        [{\"showlegend\":false,\"x\":[0,1,2,3,4,5,6,7,8,9,10,11,12,13,14,15,16,17,18,19,20,21,22,23,24,25,26,27,28,29,30,31,32,33,34,35,36,37,38,39,40,41,42,43,44,45,46,47,48,49,50],\"type\":\"bar\",\"uid\":\"3b8aa52e-8ae5-4c3a-9cd8-1b8ecf720f04\",\"y\":[-250.0,150.0,450.0,450.0,750.0,150.0,750.0,-250.0,150.0,150.0,-50.0,-50.0,-250.0,150.0,150.0,-250.0,-250.0,150.0,-50.0,-50.0,-50.0,450.0,-150.0,-150.0,750.0,150.0,-250.0,-150.0,450.0,150.0,750.0,-150.0,-50.0,-150.0,-250.0,450.0,450.0,-250.0,-150.0,150.0,150.0,-250.0,-50.0,450.0,450.0,-500.0,750.0,-150.0,750.0,450.0,-50.0]},{\"showlegend\":false,\"x\":[0,1,2,3,4,5,6,7,8,9,10,11,12,13,14,15,16,17,18,19,20,21,22,23,24,25,26,27,28,29,30,31,32,33,34,35,36,37,38,39,40,41,42,43,44,45,46,47,48,49,50],\"type\":\"scatter\",\"uid\":\"61bebd35-a687-4230-9947-3cebb03cfca2\",\"y\":[-250.0,-100.0,350.0,800.0,1550.0,1700.0,2450.0,2200.0,2350.0,2500.0,2450.0,2400.0,2150.0,2300.0,2450.0,2200.0,1950.0,2100.0,2050.0,2000.0,1950.0,2400.0,2250.0,2100.0,2850.0,3000.0,2750.0,2600.0,3050.0,3200.0,3950.0,3800.0,3750.0,3600.0,3350.0,3800.0,4250.0,4000.0,3850.0,4000.0,4150.0,3900.0,3850.0,4300.0,4750.0,4250.0,5000.0,4850.0,5600.0,6050.0,6000.0]}],                        {\"template\":{\"data\":{\"barpolar\":[{\"marker\":{\"line\":{\"color\":\"#E5ECF6\",\"width\":0.5}},\"type\":\"barpolar\"}],\"bar\":[{\"error_x\":{\"color\":\"#2a3f5f\"},\"error_y\":{\"color\":\"#2a3f5f\"},\"marker\":{\"line\":{\"color\":\"#E5ECF6\",\"width\":0.5}},\"type\":\"bar\"}],\"carpet\":[{\"aaxis\":{\"endlinecolor\":\"#2a3f5f\",\"gridcolor\":\"white\",\"linecolor\":\"white\",\"minorgridcolor\":\"white\",\"startlinecolor\":\"#2a3f5f\"},\"baxis\":{\"endlinecolor\":\"#2a3f5f\",\"gridcolor\":\"white\",\"linecolor\":\"white\",\"minorgridcolor\":\"white\",\"startlinecolor\":\"#2a3f5f\"},\"type\":\"carpet\"}],\"choropleth\":[{\"colorbar\":{\"outlinewidth\":0,\"ticks\":\"\"},\"type\":\"choropleth\"}],\"contourcarpet\":[{\"colorbar\":{\"outlinewidth\":0,\"ticks\":\"\"},\"type\":\"contourcarpet\"}],\"contour\":[{\"colorbar\":{\"outlinewidth\":0,\"ticks\":\"\"},\"colorscale\":[[0.0,\"#0d0887\"],[0.1111111111111111,\"#46039f\"],[0.2222222222222222,\"#7201a8\"],[0.3333333333333333,\"#9c179e\"],[0.4444444444444444,\"#bd3786\"],[0.5555555555555556,\"#d8576b\"],[0.6666666666666666,\"#ed7953\"],[0.7777777777777778,\"#fb9f3a\"],[0.8888888888888888,\"#fdca26\"],[1.0,\"#f0f921\"]],\"type\":\"contour\"}],\"heatmapgl\":[{\"colorbar\":{\"outlinewidth\":0,\"ticks\":\"\"},\"colorscale\":[[0.0,\"#0d0887\"],[0.1111111111111111,\"#46039f\"],[0.2222222222222222,\"#7201a8\"],[0.3333333333333333,\"#9c179e\"],[0.4444444444444444,\"#bd3786\"],[0.5555555555555556,\"#d8576b\"],[0.6666666666666666,\"#ed7953\"],[0.7777777777777778,\"#fb9f3a\"],[0.8888888888888888,\"#fdca26\"],[1.0,\"#f0f921\"]],\"type\":\"heatmapgl\"}],\"heatmap\":[{\"colorbar\":{\"outlinewidth\":0,\"ticks\":\"\"},\"colorscale\":[[0.0,\"#0d0887\"],[0.1111111111111111,\"#46039f\"],[0.2222222222222222,\"#7201a8\"],[0.3333333333333333,\"#9c179e\"],[0.4444444444444444,\"#bd3786\"],[0.5555555555555556,\"#d8576b\"],[0.6666666666666666,\"#ed7953\"],[0.7777777777777778,\"#fb9f3a\"],[0.8888888888888888,\"#fdca26\"],[1.0,\"#f0f921\"]],\"type\":\"heatmap\"}],\"histogram2dcontour\":[{\"colorbar\":{\"outlinewidth\":0,\"ticks\":\"\"},\"colorscale\":[[0.0,\"#0d0887\"],[0.1111111111111111,\"#46039f\"],[0.2222222222222222,\"#7201a8\"],[0.3333333333333333,\"#9c179e\"],[0.4444444444444444,\"#bd3786\"],[0.5555555555555556,\"#d8576b\"],[0.6666666666666666,\"#ed7953\"],[0.7777777777777778,\"#fb9f3a\"],[0.8888888888888888,\"#fdca26\"],[1.0,\"#f0f921\"]],\"type\":\"histogram2dcontour\"}],\"histogram2d\":[{\"colorbar\":{\"outlinewidth\":0,\"ticks\":\"\"},\"colorscale\":[[0.0,\"#0d0887\"],[0.1111111111111111,\"#46039f\"],[0.2222222222222222,\"#7201a8\"],[0.3333333333333333,\"#9c179e\"],[0.4444444444444444,\"#bd3786\"],[0.5555555555555556,\"#d8576b\"],[0.6666666666666666,\"#ed7953\"],[0.7777777777777778,\"#fb9f3a\"],[0.8888888888888888,\"#fdca26\"],[1.0,\"#f0f921\"]],\"type\":\"histogram2d\"}],\"histogram\":[{\"marker\":{\"colorbar\":{\"outlinewidth\":0,\"ticks\":\"\"}},\"type\":\"histogram\"}],\"mesh3d\":[{\"colorbar\":{\"outlinewidth\":0,\"ticks\":\"\"},\"type\":\"mesh3d\"}],\"parcoords\":[{\"line\":{\"colorbar\":{\"outlinewidth\":0,\"ticks\":\"\"}},\"type\":\"parcoords\"}],\"pie\":[{\"automargin\":true,\"type\":\"pie\"}],\"scatter3d\":[{\"line\":{\"colorbar\":{\"outlinewidth\":0,\"ticks\":\"\"}},\"marker\":{\"colorbar\":{\"outlinewidth\":0,\"ticks\":\"\"}},\"type\":\"scatter3d\"}],\"scattercarpet\":[{\"marker\":{\"colorbar\":{\"outlinewidth\":0,\"ticks\":\"\"}},\"type\":\"scattercarpet\"}],\"scattergeo\":[{\"marker\":{\"colorbar\":{\"outlinewidth\":0,\"ticks\":\"\"}},\"type\":\"scattergeo\"}],\"scattergl\":[{\"marker\":{\"colorbar\":{\"outlinewidth\":0,\"ticks\":\"\"}},\"type\":\"scattergl\"}],\"scattermapbox\":[{\"marker\":{\"colorbar\":{\"outlinewidth\":0,\"ticks\":\"\"}},\"type\":\"scattermapbox\"}],\"scatterpolargl\":[{\"marker\":{\"colorbar\":{\"outlinewidth\":0,\"ticks\":\"\"}},\"type\":\"scatterpolargl\"}],\"scatterpolar\":[{\"marker\":{\"colorbar\":{\"outlinewidth\":0,\"ticks\":\"\"}},\"type\":\"scatterpolar\"}],\"scatter\":[{\"marker\":{\"colorbar\":{\"outlinewidth\":0,\"ticks\":\"\"}},\"type\":\"scatter\"}],\"scatterternary\":[{\"marker\":{\"colorbar\":{\"outlinewidth\":0,\"ticks\":\"\"}},\"type\":\"scatterternary\"}],\"surface\":[{\"colorbar\":{\"outlinewidth\":0,\"ticks\":\"\"},\"colorscale\":[[0.0,\"#0d0887\"],[0.1111111111111111,\"#46039f\"],[0.2222222222222222,\"#7201a8\"],[0.3333333333333333,\"#9c179e\"],[0.4444444444444444,\"#bd3786\"],[0.5555555555555556,\"#d8576b\"],[0.6666666666666666,\"#ed7953\"],[0.7777777777777778,\"#fb9f3a\"],[0.8888888888888888,\"#fdca26\"],[1.0,\"#f0f921\"]],\"type\":\"surface\"}],\"table\":[{\"cells\":{\"fill\":{\"color\":\"#EBF0F8\"},\"line\":{\"color\":\"white\"}},\"header\":{\"fill\":{\"color\":\"#C8D4E3\"},\"line\":{\"color\":\"white\"}},\"type\":\"table\"}]},\"layout\":{\"annotationdefaults\":{\"arrowcolor\":\"#2a3f5f\",\"arrowhead\":0,\"arrowwidth\":1},\"coloraxis\":{\"colorbar\":{\"outlinewidth\":0,\"ticks\":\"\"}},\"colorscale\":{\"diverging\":[[0,\"#8e0152\"],[0.1,\"#c51b7d\"],[0.2,\"#de77ae\"],[0.3,\"#f1b6da\"],[0.4,\"#fde0ef\"],[0.5,\"#f7f7f7\"],[0.6,\"#e6f5d0\"],[0.7,\"#b8e186\"],[0.8,\"#7fbc41\"],[0.9,\"#4d9221\"],[1,\"#276419\"]],\"sequential\":[[0.0,\"#0d0887\"],[0.1111111111111111,\"#46039f\"],[0.2222222222222222,\"#7201a8\"],[0.3333333333333333,\"#9c179e\"],[0.4444444444444444,\"#bd3786\"],[0.5555555555555556,\"#d8576b\"],[0.6666666666666666,\"#ed7953\"],[0.7777777777777778,\"#fb9f3a\"],[0.8888888888888888,\"#fdca26\"],[1.0,\"#f0f921\"]],\"sequentialminus\":[[0.0,\"#0d0887\"],[0.1111111111111111,\"#46039f\"],[0.2222222222222222,\"#7201a8\"],[0.3333333333333333,\"#9c179e\"],[0.4444444444444444,\"#bd3786\"],[0.5555555555555556,\"#d8576b\"],[0.6666666666666666,\"#ed7953\"],[0.7777777777777778,\"#fb9f3a\"],[0.8888888888888888,\"#fdca26\"],[1.0,\"#f0f921\"]]},\"colorway\":[\"#1f77b4\",\"#ff7f0e\",\"#2ca02c\",\"#dc3912\",\"#9467bd\",\"#8c564b\",\"#e377c2\",\"#7f7f7f\",\"#bcbd22\",\"#17becf\"],\"font\":{\"color\":\"#2a3f5f\"},\"geo\":{\"bgcolor\":\"white\",\"lakecolor\":\"white\",\"landcolor\":\"#E5ECF6\",\"showlakes\":true,\"showland\":true,\"subunitcolor\":\"white\"},\"hoverlabel\":{\"align\":\"left\"},\"hovermode\":\"closest\",\"mapbox\":{\"style\":\"light\"},\"paper_bgcolor\":\"white\",\"plot_bgcolor\":\"#E5ECF6\",\"polar\":{\"angularaxis\":{\"gridcolor\":\"white\",\"linecolor\":\"white\",\"ticks\":\"\"},\"bgcolor\":\"#E5ECF6\",\"radialaxis\":{\"gridcolor\":\"white\",\"linecolor\":\"white\",\"ticks\":\"\"}},\"scene\":{\"xaxis\":{\"backgroundcolor\":\"#E5ECF6\",\"gridcolor\":\"white\",\"gridwidth\":2,\"linecolor\":\"white\",\"showbackground\":true,\"ticks\":\"\",\"zerolinecolor\":\"white\"},\"yaxis\":{\"backgroundcolor\":\"#E5ECF6\",\"gridcolor\":\"white\",\"gridwidth\":2,\"linecolor\":\"white\",\"showbackground\":true,\"ticks\":\"\",\"zerolinecolor\":\"white\"},\"zaxis\":{\"backgroundcolor\":\"#E5ECF6\",\"gridcolor\":\"white\",\"gridwidth\":2,\"linecolor\":\"white\",\"showbackground\":true,\"ticks\":\"\",\"zerolinecolor\":\"white\"}},\"shapedefaults\":{\"line\":{\"color\":\"#2a3f5f\"}},\"ternary\":{\"aaxis\":{\"gridcolor\":\"white\",\"linecolor\":\"white\",\"ticks\":\"\"},\"baxis\":{\"gridcolor\":\"white\",\"linecolor\":\"white\",\"ticks\":\"\"},\"bgcolor\":\"#E5ECF6\",\"caxis\":{\"gridcolor\":\"white\",\"linecolor\":\"white\",\"ticks\":\"\"}},\"title\":{\"x\":0.05},\"xaxis\":{\"automargin\":true,\"gridcolor\":\"white\",\"linecolor\":\"white\",\"ticks\":\"\",\"title\":{\"standoff\":15},\"zerolinecolor\":\"white\",\"zerolinewidth\":2},\"yaxis\":{\"automargin\":true,\"gridcolor\":\"white\",\"linecolor\":\"white\",\"ticks\":\"\",\"title\":{\"standoff\":15},\"zerolinecolor\":\"white\",\"zerolinewidth\":2}}},\"margin\":{\"t\":30,\"b\":30,\"l\":30,\"r\":30},\"legend\":{\"orientation\":\"h\",\"yanchor\":\"bottom\",\"y\":1.02,\"xanchor\":\"right\",\"x\":1,\"traceorder\":\"normal\"},\"width\":700,\"height\":350},                        {\"responsive\": true}                    )                };                            </script>        </div>"
      ],
      "text/plain": [
       "FigureWidget({\n",
       "    'data': [{'showlegend': False,\n",
       "              'type': 'bar',\n",
       "              'uid': '3b8aa52e-8ae5-4c3a-9cd8-1b8ecf720f04',\n",
       "              'x': array([ 0,  1,  2,  3,  4,  5,  6,  7,  8,  9, 10, 11, 12, 13, 14, 15, 16, 17,\n",
       "                          18, 19, 20, 21, 22, 23, 24, 25, 26, 27, 28, 29, 30, 31, 32, 33, 34, 35,\n",
       "                          36, 37, 38, 39, 40, 41, 42, 43, 44, 45, 46, 47, 48, 49, 50], dtype=int64),\n",
       "              'y': array([-250.,  150.,  450.,  450.,  750.,  150.,  750., -250.,  150.,  150.,\n",
       "                           -50.,  -50., -250.,  150.,  150., -250., -250.,  150.,  -50.,  -50.,\n",
       "                           -50.,  450., -150., -150.,  750.,  150., -250., -150.,  450.,  150.,\n",
       "                           750., -150.,  -50., -150., -250.,  450.,  450., -250., -150.,  150.,\n",
       "                           150., -250.,  -50.,  450.,  450., -500.,  750., -150.,  750.,  450.,\n",
       "                           -50.])},\n",
       "             {'showlegend': False,\n",
       "              'type': 'scatter',\n",
       "              'uid': '61bebd35-a687-4230-9947-3cebb03cfca2',\n",
       "              'x': array([ 0,  1,  2,  3,  4,  5,  6,  7,  8,  9, 10, 11, 12, 13, 14, 15, 16, 17,\n",
       "                          18, 19, 20, 21, 22, 23, 24, 25, 26, 27, 28, 29, 30, 31, 32, 33, 34, 35,\n",
       "                          36, 37, 38, 39, 40, 41, 42, 43, 44, 45, 46, 47, 48, 49, 50], dtype=int64),\n",
       "              'y': array([-250., -100.,  350.,  800., 1550., 1700., 2450., 2200., 2350., 2500.,\n",
       "                          2450., 2400., 2150., 2300., 2450., 2200., 1950., 2100., 2050., 2000.,\n",
       "                          1950., 2400., 2250., 2100., 2850., 3000., 2750., 2600., 3050., 3200.,\n",
       "                          3950., 3800., 3750., 3600., 3350., 3800., 4250., 4000., 3850., 4000.,\n",
       "                          4150., 3900., 3850., 4300., 4750., 4250., 5000., 4850., 5600., 6050.,\n",
       "                          6000.])}],\n",
       "    'layout': {'height': 350,\n",
       "               'legend': {'orientation': 'h',\n",
       "                          'traceorder': 'normal',\n",
       "                          'x': 1,\n",
       "                          'xanchor': 'right',\n",
       "                          'y': 1.02,\n",
       "                          'yanchor': 'bottom'},\n",
       "               'margin': {'b': 30, 'l': 30, 'r': 30, 't': 30},\n",
       "               'template': '...',\n",
       "               'width': 700}\n",
       "})"
      ]
     },
     "execution_count": 202,
     "metadata": {},
     "output_type": "execute_result"
    }
   ],
   "source": [
    "import vectorbt as vbt\n",
    "d = df.groupby(['id', df.detail_ts.dt.date]).quantity.sum().reset_index().query('id == \"中性壓力褲_灰_2L\"').set_index('detail_ts').quantity\n",
    "# pd.Series(d.values).vbt.plot()\n",
    "fig = pd.Series(d.values).vbt.barplot()\n",
    "pd.Series(d.values).cumsum().vbt.plot(fig=fig)"
   ]
  }
 ],
 "metadata": {
  "kernelspec": {
   "display_name": "base",
   "language": "python",
   "name": "python3"
  },
  "language_info": {
   "codemirror_mode": {
    "name": "ipython",
    "version": 3
   },
   "file_extension": ".py",
   "mimetype": "text/x-python",
   "name": "python",
   "nbconvert_exporter": "python",
   "pygments_lexer": "ipython3",
   "version": "3.10.0"
  },
  "orig_nbformat": 4
 },
 "nbformat": 4,
 "nbformat_minor": 2
}
